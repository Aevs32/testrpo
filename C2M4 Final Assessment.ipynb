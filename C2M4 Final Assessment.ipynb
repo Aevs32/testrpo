{
 "cells": [
  {
   "cell_type": "markdown",
   "id": "0f0ada7f-9744-4be2-8710-0ab31addaac6",
   "metadata": {},
   "source": [
    "# My Jupyter Notebook on IBM Watson Studio"
   ]
  },
  {
   "cell_type": "markdown",
   "id": "6dd803dd-9c68-4a39-b7c2-c1ff3037e387",
   "metadata": {},
   "source": [
    "## Alex Evans\n",
    "Data Scientist"
   ]
  },
  {
   "cell_type": "markdown",
   "id": "fc89f3fc-777f-44d2-a648-a3430a9e0d25",
   "metadata": {},
   "source": [
    "*I am interested in data science as I find exploring data and identifying hidden relationships extremely fun*"
   ]
  },
  {
   "cell_type": "markdown",
   "id": "b53b782d-8ee4-4532-8461-b43faa0725eb",
   "metadata": {},
   "source": [
    "### The following code tests the Gauss formula"
   ]
  },
  {
   "cell_type": "code",
   "execution_count": 4,
   "id": "036446ff-f11b-436e-b7d5-4abb747bbe2c",
   "metadata": {},
   "outputs": [
    {
     "data": {
      "text/plain": [
       "True"
      ]
     },
     "execution_count": 4,
     "metadata": {},
     "output_type": "execute_result"
    }
   ],
   "source": [
    "def gauss(n):\n",
    "    return (n*(n+1))/2\n",
    "gauss(50) == sum(range(51))"
   ]
  },
  {
   "cell_type": "markdown",
   "id": "355b21bb-ec67-48a6-8cf5-a1bcedc7ceeb",
   "metadata": {},
   "source": [
    "<a href=\"https://dataplatform.cloud.ibm.com/gallery\">IBM Cloud Gallery</a> \n",
    "\n",
    "|Header 1|Header 2|\n",
    "|-----|-----|\n",
    "|Row 1|Row 1|\n",
    "|Row 2|Row 2|\n",
    "|Row 3|Row 3|\n",
    "\n",
    "List of Work Days\n",
    "1. Monday\n",
    "2. Tuesday\n",
    "3. Wednesday\n",
    "4. Thursday\n",
    "5. Friday \n"
   ]
  },
  {
   "cell_type": "code",
   "execution_count": null,
   "id": "67e6cff5-41c7-493f-b0df-c371f98084c2",
   "metadata": {},
   "outputs": [],
   "source": []
  }
 ],
 "metadata": {
  "kernelspec": {
   "display_name": "Python",
   "language": "python",
   "name": "conda-env-python-py"
  },
  "language_info": {
   "codemirror_mode": {
    "name": "ipython",
    "version": 3
   },
   "file_extension": ".py",
   "mimetype": "text/x-python",
   "name": "python",
   "nbconvert_exporter": "python",
   "pygments_lexer": "ipython3",
   "version": "3.7.12"
  }
 },
 "nbformat": 4,
 "nbformat_minor": 5
}
